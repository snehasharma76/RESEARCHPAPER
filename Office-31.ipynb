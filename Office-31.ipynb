{
 "cells": [
  {
   "cell_type": "code",
   "execution_count": 1,
   "id": "de23f36a",
   "metadata": {},
   "outputs": [],
   "source": [
    "import sys\n",
    "import numpy as np\n",
    "#!{sys.executable} -m pip install pandas \n",
    "import pandas as pd\n",
    "import pathlib\n",
    "import cv2\n",
    "import os\n",
    "import glob"
   ]
  },
  {
   "cell_type": "code",
   "execution_count": 2,
   "id": "9f800ed4",
   "metadata": {},
   "outputs": [],
   "source": [
    "# pip install image-dataset-loader"
   ]
  },
  {
   "cell_type": "code",
   "execution_count": 3,
   "id": "f4b64281",
   "metadata": {},
   "outputs": [],
   "source": [
    "# import os\n",
    "# import image_dataset_loader\n",
    "\n",
    "# dataset_path = os.path.join(os.path.dirname(os.path.abspath(__file__)), 'Office-31')\n",
    "# set_names = ['train']\n",
    "# (x_train) = image_dataset_loader.load('.Office-31')"
   ]
  },
  {
   "cell_type": "code",
   "execution_count": 4,
   "id": "ac5e7e73",
   "metadata": {},
   "outputs": [],
   "source": [
    "dir_path = \"D:/Office/Office-31/amazon/back_pack\"\n",
    "#Change string to path\n",
    "data_root = pathlib.Path(dir_path)"
   ]
  },
  {
   "cell_type": "code",
   "execution_count": 5,
   "id": "9e350a40",
   "metadata": {
    "scrolled": true
   },
   "outputs": [],
   "source": [
    "#List all file names in the root directory\n",
    "def return_file_names(root_dir):\n",
    "    arr = os.listdir(root_dir)\n",
    "    #col=[]\n",
    "    li=[]\n",
    "    for i in arr: #frame_001.jpg\n",
    "        dir_path = str(root_dir)+'\\\\'+ i\n",
    "        #li= list(sorted(data_root.glob('*.*')))\n",
    "        #li=[str(path) for path in li]\n",
    "        li.append(dir_path)\n",
    "        #col.append(li)\n",
    "        \n",
    "        \n",
    "        data_df = pd.DataFrame()\n",
    "        data_df['path_img'] = li\n",
    "    return data_df\n",
    "df_train = return_file_names(data_root)"
   ]
  },
  {
   "cell_type": "code",
   "execution_count": 6,
   "id": "cb175e71",
   "metadata": {},
   "outputs": [],
   "source": [
    "dir_path2 = \"D:/Office/Office-31/amazon/bike\"\n",
    "data_root2 = pathlib.Path(dir_path2)\n",
    "df_train2 = return_file_names(data_root2)"
   ]
  },
  {
   "cell_type": "code",
   "execution_count": 7,
   "id": "3f65cded",
   "metadata": {},
   "outputs": [
    {
     "data": {
      "text/plain": [
       "<bound method NDFrame.head of                                           path_img\n",
       "0   D:\\Office\\Office-31\\amazon\\bike\\frame_0001.jpg\n",
       "1   D:\\Office\\Office-31\\amazon\\bike\\frame_0002.jpg\n",
       "2   D:\\Office\\Office-31\\amazon\\bike\\frame_0003.jpg\n",
       "3   D:\\Office\\Office-31\\amazon\\bike\\frame_0004.jpg\n",
       "4   D:\\Office\\Office-31\\amazon\\bike\\frame_0005.jpg\n",
       "..                                             ...\n",
       "77  D:\\Office\\Office-31\\amazon\\bike\\frame_0078.jpg\n",
       "78  D:\\Office\\Office-31\\amazon\\bike\\frame_0079.jpg\n",
       "79  D:\\Office\\Office-31\\amazon\\bike\\frame_0080.jpg\n",
       "80  D:\\Office\\Office-31\\amazon\\bike\\frame_0081.jpg\n",
       "81  D:\\Office\\Office-31\\amazon\\bike\\frame_0082.jpg\n",
       "\n",
       "[82 rows x 1 columns]>"
      ]
     },
     "execution_count": 7,
     "metadata": {},
     "output_type": "execute_result"
    }
   ],
   "source": [
    "df_train2.head"
   ]
  },
  {
   "cell_type": "code",
   "execution_count": 8,
   "id": "52f8f9bc",
   "metadata": {},
   "outputs": [],
   "source": [
    "dir_path3 = \"D:/Office/Office-31/amazon/bike_helmet\"\n",
    "data_root3 = pathlib.Path(dir_path3)\n",
    "df_train3 = return_file_names(data_root3)"
   ]
  },
  {
   "cell_type": "code",
   "execution_count": 9,
   "id": "cc85350d",
   "metadata": {},
   "outputs": [],
   "source": [
    "dir_path4 = \"D:/Office/Office-31/amazon/bookcase\"\n",
    "data_root4 = pathlib.Path(dir_path4)\n",
    "df_train4 = return_file_names(data_root4)"
   ]
  },
  {
   "cell_type": "code",
   "execution_count": 10,
   "id": "e1b73880",
   "metadata": {},
   "outputs": [],
   "source": [
    "dir_path5 = \"D:/Office/Office-31/amazon/bottle\"\n",
    "data_root5 = pathlib.Path(dir_path5)\n",
    "df_train5 = return_file_names(data_root5)"
   ]
  },
  {
   "cell_type": "code",
   "execution_count": 11,
   "id": "bdfcfbae",
   "metadata": {},
   "outputs": [],
   "source": [
    "dir_path6 = \"D:/Office/Office-31/amazon/calculator\"\n",
    "data_root6 = pathlib.Path(dir_path6)\n",
    "df_train6 = return_file_names(data_root6)"
   ]
  },
  {
   "cell_type": "code",
   "execution_count": 12,
   "id": "164747c0",
   "metadata": {},
   "outputs": [],
   "source": [
    "dir_path7 = \"D:/Office/Office-31/amazon/desk_chair\"\n",
    "data_root7 = pathlib.Path(dir_path7)\n",
    "df_train7 = return_file_names(data_root7)"
   ]
  },
  {
   "cell_type": "code",
   "execution_count": 13,
   "id": "05521035",
   "metadata": {},
   "outputs": [],
   "source": [
    "dir_path8 = \"D:/Office/Office-31/amazon/desk_lamp\"\n",
    "data_root8 = pathlib.Path(dir_path8)\n",
    "df_train8 = return_file_names(data_root8)"
   ]
  },
  {
   "cell_type": "code",
   "execution_count": 14,
   "id": "afb60221",
   "metadata": {},
   "outputs": [],
   "source": [
    "dir_path9 = \"D:/Office/Office-31/amazon/desktop_computer\"\n",
    "data_root9 = pathlib.Path(dir_path9)\n",
    "df_train9 = return_file_names(data_root9)"
   ]
  },
  {
   "cell_type": "code",
   "execution_count": 15,
   "id": "cc83d5be",
   "metadata": {},
   "outputs": [],
   "source": [
    "dir_path10 = \"D:/Office/Office-31/amazon/file_cabinet\"\n",
    "data_root10 = pathlib.Path(dir_path10)\n",
    "df_train10= return_file_names(data_root10)"
   ]
  },
  {
   "cell_type": "code",
   "execution_count": 16,
   "id": "7e6a3fa5",
   "metadata": {},
   "outputs": [],
   "source": [
    "#df_merge = pd.concat([df_train,df_train2,df_train3])"
   ]
  },
  {
   "cell_type": "code",
   "execution_count": 17,
   "id": "cab22ac5",
   "metadata": {},
   "outputs": [],
   "source": [
    "#df_merge.head"
   ]
  },
  {
   "cell_type": "code",
   "execution_count": 18,
   "id": "6afd83a7",
   "metadata": {},
   "outputs": [],
   "source": [
    "dir_path11 = \"D:/Office/Office-31/amazon/headphones\"\n",
    "data_root11  = pathlib.Path(dir_path11)\n",
    "df_train11  = return_file_names(data_root11)"
   ]
  },
  {
   "cell_type": "code",
   "execution_count": 19,
   "id": "7b0eff22",
   "metadata": {},
   "outputs": [],
   "source": [
    "dir_path12 = \"D:/Office/Office-31/amazon/keyboard\"\n",
    "data_root12 = pathlib.Path(dir_path12)\n",
    "df_train12 = return_file_names(data_root12)"
   ]
  },
  {
   "cell_type": "code",
   "execution_count": 20,
   "id": "903cf6ab",
   "metadata": {},
   "outputs": [],
   "source": [
    "dir_path13 = \"D:/Office/Office-31/amazon/laptop_computer\"\n",
    "data_root13 = pathlib.Path(dir_path13)\n",
    "df_train13 = return_file_names(data_root13)"
   ]
  },
  {
   "cell_type": "code",
   "execution_count": 21,
   "id": "6048a32d",
   "metadata": {},
   "outputs": [],
   "source": [
    "dir_path14 = \"D:/Office/Office-31/amazon/letter_tray\"\n",
    "data_root14 = pathlib.Path(dir_path14)\n",
    "df_train14 = return_file_names(data_root14)"
   ]
  },
  {
   "cell_type": "code",
   "execution_count": 22,
   "id": "d7e66b70",
   "metadata": {},
   "outputs": [],
   "source": [
    "dir_path15 = \"D:/Office/Office-31/amazon/mobile_phone\"\n",
    "data_root15 = pathlib.Path(dir_path15)\n",
    "df_train15 = return_file_names(data_root15)\n"
   ]
  },
  {
   "cell_type": "code",
   "execution_count": 23,
   "id": "6e662871",
   "metadata": {},
   "outputs": [],
   "source": [
    "dir_path16 = \"D:/Office/Office-31/amazon/monitor\"\n",
    "data_root16 = pathlib.Path(dir_path16)\n",
    "df_train16 = return_file_names(data_root16)"
   ]
  },
  {
   "cell_type": "code",
   "execution_count": 24,
   "id": "42e89565",
   "metadata": {},
   "outputs": [],
   "source": [
    "dir_path17 = \"D:/Office/Office-31/amazon/mouse\"\n",
    "data_root17 = pathlib.Path(dir_path17)\n",
    "df_train17 = return_file_names(data_root17)"
   ]
  },
  {
   "cell_type": "code",
   "execution_count": 25,
   "id": "e02dc53b",
   "metadata": {},
   "outputs": [],
   "source": [
    "dir_path18 = \"D:/Office/Office-31/amazon/mug\"\n",
    "data_root18 = pathlib.Path(dir_path18)\n",
    "df_train18= return_file_names(data_root18)"
   ]
  },
  {
   "cell_type": "code",
   "execution_count": 26,
   "id": "4ba1ac27",
   "metadata": {},
   "outputs": [],
   "source": [
    "dir_path19 = \"D:/Office/Office-31/amazon/paper_notebook\"\n",
    "data_root19 = pathlib.Path(dir_path19)\n",
    "df_train19 = return_file_names(data_root19)"
   ]
  },
  {
   "cell_type": "code",
   "execution_count": 27,
   "id": "ca8d802f",
   "metadata": {},
   "outputs": [],
   "source": [
    "dir_path20 = \"D:/Office/Office-31/amazon/pen\"\n",
    "data_root20 = pathlib.Path(dir_path20)\n",
    "df_train20= return_file_names(data_root20)"
   ]
  },
  {
   "cell_type": "code",
   "execution_count": 28,
   "id": "19d19bb2",
   "metadata": {},
   "outputs": [],
   "source": [
    "dir_path21= \"D:/Office/Office-31/amazon/phone\"\n",
    "data_root21 = pathlib.Path(dir_path21)\n",
    "df_train21 = return_file_names(data_root21)"
   ]
  },
  {
   "cell_type": "code",
   "execution_count": 29,
   "id": "1dbaa183",
   "metadata": {},
   "outputs": [],
   "source": [
    "dir_path22 = \"D:/Office/Office-31/amazon/printer\"\n",
    "data_root22 = pathlib.Path(dir_path22)\n",
    "df_train22= return_file_names(data_root22)"
   ]
  },
  {
   "cell_type": "code",
   "execution_count": 30,
   "id": "aeab4169",
   "metadata": {},
   "outputs": [],
   "source": [
    "dir_path23 = \"D:/Office/Office-31/amazon/projector\"\n",
    "data_root23 = pathlib.Path(dir_path23)\n",
    "df_train23 = return_file_names(data_root23)"
   ]
  },
  {
   "cell_type": "code",
   "execution_count": 31,
   "id": "a9443a9c",
   "metadata": {},
   "outputs": [],
   "source": [
    "dir_path24 = \"D:/Office/Office-31/amazon/punchers\"\n",
    "data_root24 = pathlib.Path(dir_path24)\n",
    "df_train24 = return_file_names(data_root24)"
   ]
  },
  {
   "cell_type": "code",
   "execution_count": 32,
   "id": "81f9943c",
   "metadata": {},
   "outputs": [],
   "source": [
    "dir_path25= \"D:/Office/Office-31/amazon/ring_binder\"\n",
    "data_root25 = pathlib.Path(dir_path25)\n",
    "df_train25 = return_file_names(data_root25)"
   ]
  },
  {
   "cell_type": "code",
   "execution_count": 33,
   "id": "431e2e9a",
   "metadata": {},
   "outputs": [],
   "source": [
    "dir_path26 = \"D:/Office/Office-31/amazon/ruler\"\n",
    "data_root26 = pathlib.Path(dir_path26)\n",
    "df_train26 = return_file_names(data_root26)"
   ]
  },
  {
   "cell_type": "code",
   "execution_count": 34,
   "id": "598bd69b",
   "metadata": {},
   "outputs": [],
   "source": [
    "dir_path27 = \"D:/Office/Office-31/amazon/scissors\"\n",
    "data_root27 = pathlib.Path(dir_path27)\n",
    "df_train27 = return_file_names(data_root27)"
   ]
  },
  {
   "cell_type": "code",
   "execution_count": 35,
   "id": "74fa3ea5",
   "metadata": {},
   "outputs": [],
   "source": [
    "dir_path28 = \"D:/Office/Office-31/amazon/speaker\"\n",
    "data_root28 = pathlib.Path(dir_path28)\n",
    "df_train28 = return_file_names(data_root28)"
   ]
  },
  {
   "cell_type": "code",
   "execution_count": 36,
   "id": "290a3c00",
   "metadata": {},
   "outputs": [],
   "source": [
    "dir_path29= \"D:/Office/Office-31/amazon/stapler\"\n",
    "data_root29 = pathlib.Path(dir_path29)\n",
    "df_train29 = return_file_names(data_root29)"
   ]
  },
  {
   "cell_type": "code",
   "execution_count": 37,
   "id": "064327ed",
   "metadata": {},
   "outputs": [],
   "source": [
    "dir_path30 = \"D:/Office/Office-31/amazon/tape_dispenser\"\n",
    "data_root30 = pathlib.Path(dir_path30)\n",
    "df_train30 = return_file_names(data_root30)"
   ]
  },
  {
   "cell_type": "code",
   "execution_count": 38,
   "id": "346d9b0d",
   "metadata": {},
   "outputs": [],
   "source": [
    "dir_path31 = \"D:/Office/Office-31/amazon/trash_can\"\n",
    "data_root31 = pathlib.Path(dir_path31)\n",
    "df_train31 = return_file_names(data_root31)"
   ]
  },
  {
   "cell_type": "code",
   "execution_count": 39,
   "id": "a7a053f0",
   "metadata": {},
   "outputs": [],
   "source": [
    "#df_merge = pd.concat([df_train,df_train2,df_train3,df_train4,df_train5,df_train6,df_train7,df_train8,df_train9,df_train10,df_train11,df_train12,df_train13,df_train14,df_train15,df_train16,df_train17,df_train18,df_train19,df_train20,df_train21,df_train22,df_train23,df_train24,df_train25,df_train26,df_train27,df_train28,df_train29,df_train30,df_train31])\n",
    "frames = [df_train,df_train2,df_train3,df_train4,df_train5,df_train6,df_train7,df_train8,df_train9,df_train10,df_train11,df_train12,df_train13,df_train14,df_train15,df_train16,df_train17,df_train18,df_train19,df_train20,df_train21,df_train22,df_train23,df_train24,df_train25,df_train26,df_train27,df_train28,df_train29,df_train30,df_train31]\n",
    "df_merge = pd.concat(frames,ignore_index=True)"
   ]
  },
  {
   "cell_type": "code",
   "execution_count": 40,
   "id": "32a5ce6a",
   "metadata": {},
   "outputs": [
    {
     "data": {
      "text/plain": [
       "<bound method NDFrame.head of                                                path_img\n",
       "0     D:\\Office\\Office-31\\amazon\\back_pack\\frame_000...\n",
       "1     D:\\Office\\Office-31\\amazon\\back_pack\\frame_000...\n",
       "2     D:\\Office\\Office-31\\amazon\\back_pack\\frame_000...\n",
       "3     D:\\Office\\Office-31\\amazon\\back_pack\\frame_000...\n",
       "4     D:\\Office\\Office-31\\amazon\\back_pack\\frame_000...\n",
       "...                                                 ...\n",
       "2812  D:\\Office\\Office-31\\amazon\\trash_can\\frame_006...\n",
       "2813  D:\\Office\\Office-31\\amazon\\trash_can\\frame_006...\n",
       "2814  D:\\Office\\Office-31\\amazon\\trash_can\\frame_006...\n",
       "2815  D:\\Office\\Office-31\\amazon\\trash_can\\frame_006...\n",
       "2816  D:\\Office\\Office-31\\amazon\\trash_can\\frame_006...\n",
       "\n",
       "[2817 rows x 1 columns]>"
      ]
     },
     "execution_count": 40,
     "metadata": {},
     "output_type": "execute_result"
    }
   ],
   "source": [
    "df_merge.head\n"
   ]
  },
  {
   "cell_type": "code",
   "execution_count": 41,
   "id": "5c9f3886",
   "metadata": {},
   "outputs": [],
   "source": [
    "from matplotlib.pyplot import imshow\n",
    "import numpy as np\n",
    "import cv2"
   ]
  },
  {
   "cell_type": "code",
   "execution_count": 42,
   "id": "166a8c76",
   "metadata": {},
   "outputs": [],
   "source": [
    "from keras.preprocessing.image import img_to_array\n",
    "from tensorflow.keras.layers import Conv2D, MaxPooling2D, UpSampling2D\n",
    "from tensorflow.keras.models import Sequential\n",
    "import os\n",
    "#from tqdm import tqdm\n",
    " #Limiting to 256 size image as my laptop cannot handle larger images. \n",
    "#img_data=[]"
   ]
  },
  {
   "cell_type": "code",
   "execution_count": 43,
   "id": "e70c424b",
   "metadata": {},
   "outputs": [],
   "source": [
    "#from pathlib import Path\n",
    "#filepath = df_merge['path_img']\n"
   ]
  },
  {
   "cell_type": "code",
   "execution_count": 44,
   "id": "4a5b7e8e",
   "metadata": {},
   "outputs": [],
   "source": [
    "#from sklearn.model_selection import train_test_split\n",
    "#X_train, X_test = train_test_split(df_merge, test_size=0.20, random_state=42)\n"
   ]
  },
  {
   "cell_type": "code",
   "execution_count": 45,
   "id": "5443e609",
   "metadata": {},
   "outputs": [],
   "source": [
    "#X_train.head"
   ]
  },
  {
   "cell_type": "code",
   "execution_count": 46,
   "id": "4a21c0a2",
   "metadata": {},
   "outputs": [],
   "source": [
    "SIZE=256\n",
    "#X =pd.DataFrame()\n",
    "li=[]\n",
    "for i in range(0,2817):\n",
    "    img_data=[]\n",
    "    filepath = df_merge['path_img'][i]\n",
    "    img = cv2.imread(filepath)\n",
    "    img=cv2.resize(img,(SIZE, SIZE))\n",
    "    img_data.append(img_to_array(img))\n",
    "    img_array = np.reshape(img_data, (len(img_data), SIZE, SIZE, 3))\n",
    "    img_array = np.asarray(img_array).astype(np.float32) / 255.\n",
    "    li.append(img_array)\n",
    "li=np.array(li)\n",
    "#X['image'] = li"
   ]
  },
  {
   "cell_type": "code",
   "execution_count": 47,
   "id": "ff3f92aa",
   "metadata": {},
   "outputs": [],
   "source": [
    "#X.head"
   ]
  },
  {
   "cell_type": "code",
   "execution_count": 48,
   "id": "9eb48275",
   "metadata": {},
   "outputs": [],
   "source": [
    "from sklearn.model_selection import train_test_split\n",
    "#X_train, X_test = train_test_split(X, test_size=0.20, random_state=42)\n",
    "X_train, X_test = train_test_split(li, test_size=0.20, random_state=42)\n",
    "#Difficult to reshape as it is a dataframe.\n",
    "#X_train = X_train.reshape(X_train.shape[0], 28, 28, 1)\n",
    "#X_test = X_test.reshape(X_test.shape[0], 28, 28, 1)\n",
    "#X_train = X_train.astype(\"float32\")/255.\n",
    "#X_test = X_test.astype(\"float32\")/255.\n",
    "X_train = X_train.reshape(X_train.shape[0], 256, 256, 3)\n",
    "X_test = X_test.reshape(X_test.shape[0], 256, 256, 3)\n",
    "X_train = X_train.astype(\"float32\")/255.\n",
    "X_test = X_test.astype(\"float32\")/255."
   ]
  },
  {
   "cell_type": "code",
   "execution_count": null,
   "id": "e4f25ef2",
   "metadata": {},
   "outputs": [],
   "source": []
  },
  {
   "cell_type": "code",
   "execution_count": 49,
   "id": "d5cded8d",
   "metadata": {},
   "outputs": [],
   "source": [
    "#model = Sequential()\n",
    "#model.add(Conv2D(32, (3, 3), activation='relu', padding='same', input_shape=(SIZE, SIZE, 3)))\n",
    "#model.add(MaxPooling2D((2, 2), padding='same'))\n",
    "#model.add(Conv2D(8, (3, 3), activation='relu', padding='same'))\n",
    "#model.add(MaxPooling2D((2, 2), padding='same'))\n",
    "#model.add(Conv2D(8, (3, 3), activation='relu', padding='same'))"
   ]
  },
  {
   "cell_type": "code",
   "execution_count": 50,
   "id": "9ec3aaa3",
   "metadata": {},
   "outputs": [],
   "source": [
    "#model.add(MaxPooling2D((2, 2), padding='same'))\n",
    "     \n",
    "#model.add(Conv2D(8, (3, 3), activation='relu', padding='same'))\n",
    "#model.add(UpSampling2D((2, 2)))\n",
    "#model.add(Conv2D(8, (3, 3), activation='relu', padding='same'))\n",
    "#model.add(UpSampling2D((2, 2)))\n",
    "#model.add(Conv2D(32, (3, 3), activation='relu', padding='same'))\n",
    "#model.add(UpSampling2D((2, 2)))\n",
    "#model.add(Conv2D(3, (3, 3), activation='relu', padding='same'))\n"
   ]
  },
  {
   "cell_type": "code",
   "execution_count": 51,
   "id": "79511453",
   "metadata": {},
   "outputs": [],
   "source": [
    "#model.compile(optimizer='adam', loss='mean_squared_error', metrics=['accuracy'])\n",
    "#model.summary()"
   ]
  },
  {
   "cell_type": "code",
   "execution_count": 52,
   "id": "4f1a0b7d",
   "metadata": {},
   "outputs": [],
   "source": [
    "# Encoder\n",
    "from keras.layers import Input,add\n",
    "x = Input(shape=(256, 256,3)) \n",
    "conv1_1 = Conv2D(32, (3, 3), activation='relu', padding='same')(x)\n",
    "pool1 = MaxPooling2D((2, 2), padding='same')(conv1_1)\n",
    "conv1_2 = Conv2D(8, (3, 3), activation='relu', padding='same')(pool1)\n",
    "pool2 = MaxPooling2D((2, 2), padding='same')(conv1_2)\n",
    "conv1_3 = Conv2D(8, (3, 3), activation='relu', padding='same')(pool2)\n",
    "h = MaxPooling2D((2, 2), padding='same')(conv1_3)\n",
    "\n",
    "\n",
    "# Decoder\n",
    "conv2_1 = Conv2D(8, (3, 3), activation='relu', padding='same')(h)\n",
    "up1 = UpSampling2D((2, 2))(conv2_1)\n",
    "conv2_2 = Conv2D(8, (3, 3), activation='relu', padding='same')(up1)\n",
    "up2 = UpSampling2D((2, 2))(conv2_2)\n",
    "conv2_3 = Conv2D(16, (3, 3), activation='relu',padding='same')(up2)\n",
    "up3 = UpSampling2D((2, 2))(conv2_3)\n",
    "r = Conv2D(3, (3, 3), activation='sigmoid', padding='same')(up3)\n",
    "\n",
    "from keras.models import Model\n",
    "autoencoder = Model(inputs=x, outputs=r)\n",
    "autoencoder.compile(optimizer='adadelta', loss='categorical_crossentropy',metrics=['accuracy'])"
   ]
  },
  {
   "cell_type": "code",
   "execution_count": 53,
   "id": "79deeb38",
   "metadata": {},
   "outputs": [
    {
     "name": "stdout",
     "output_type": "stream",
     "text": [
      "Epoch 1/100\n",
      "141/141 [==============================] - 224s 2s/step - loss: 0.0102 - accuracy: 0.7047 - val_loss: 0.0102 - val_accuracy: 0.7673\n",
      "Epoch 2/100\n",
      "141/141 [==============================] - 228s 2s/step - loss: 0.0102 - accuracy: 0.7754 - val_loss: 0.0102 - val_accuracy: 0.7673\n",
      "Epoch 3/100\n",
      "141/141 [==============================] - 226s 2s/step - loss: 0.0102 - accuracy: 0.7753 - val_loss: 0.0102 - val_accuracy: 0.7672\n",
      "Epoch 4/100\n",
      "141/141 [==============================] - 226s 2s/step - loss: 0.0102 - accuracy: 0.7753 - val_loss: 0.0102 - val_accuracy: 0.7672\n",
      "Epoch 5/100\n",
      "141/141 [==============================] - 225s 2s/step - loss: 0.0102 - accuracy: 0.7752 - val_loss: 0.0102 - val_accuracy: 0.7671\n",
      "Epoch 6/100\n",
      "141/141 [==============================] - 227s 2s/step - loss: 0.0102 - accuracy: 0.7752 - val_loss: 0.0102 - val_accuracy: 0.7671\n",
      "Epoch 7/100\n",
      "141/141 [==============================] - 227s 2s/step - loss: 0.0102 - accuracy: 0.7751 - val_loss: 0.0103 - val_accuracy: 0.7671\n",
      "Epoch 8/100\n",
      "141/141 [==============================] - 226s 2s/step - loss: 0.0102 - accuracy: 0.7751 - val_loss: 0.0103 - val_accuracy: 0.7671\n",
      "Epoch 9/100\n",
      "141/141 [==============================] - 235s 2s/step - loss: 0.0102 - accuracy: 0.7751 - val_loss: 0.0103 - val_accuracy: 0.7670\n",
      "Epoch 10/100\n",
      "141/141 [==============================] - 235s 2s/step - loss: 0.0102 - accuracy: 0.7750 - val_loss: 0.0103 - val_accuracy: 0.7670\n",
      "Epoch 11/100\n",
      "141/141 [==============================] - 225s 2s/step - loss: 0.0102 - accuracy: 0.7736 - val_loss: 0.0104 - val_accuracy: 0.7602\n",
      "Epoch 12/100\n",
      "141/141 [==============================] - 216s 2s/step - loss: 100809409687898292224.0000 - accuracy: 0.6207 - val_loss: 2399231339936708820992.0000 - val_accuracy: 0.7706\n",
      "Epoch 13/100\n",
      "141/141 [==============================] - 238s 2s/step - loss: 74633927744361129312256.0000 - accuracy: 0.7822 - val_loss: 151331305758791617740800.0000 - val_accuracy: 0.7743\n",
      "Epoch 14/100\n",
      "141/141 [==============================] - 245s 2s/step - loss: 215223891686695353974784.0000 - accuracy: 0.7824 - val_loss: 278915058624864572145664.0000 - val_accuracy: 0.7743\n",
      "Epoch 15/100\n",
      "141/141 [==============================] - 240s 2s/step - loss: 334291788017373437493248.0000 - accuracy: 0.7824 - val_loss: 400575371016245189017600.0000 - val_accuracy: 0.7743\n",
      "Epoch 16/100\n",
      "141/141 [==============================] - 255s 2s/step - loss: 457981386372050180898816.0000 - accuracy: 0.7824 - val_loss: 528660590693626593411072.0000 - val_accuracy: 0.7743\n",
      "Epoch 17/100\n",
      "141/141 [==============================] - 246s 2s/step - loss: 577809418262234366214144.0000 - accuracy: 0.7824 - val_loss: 643535131368064479657984.0000 - val_accuracy: 0.7743\n",
      "Epoch 18/100\n",
      "141/141 [==============================] - 241s 2s/step - loss: 694319450148551102824448.0000 - accuracy: 0.7824 - val_loss: 763404380202038359752704.0000 - val_accuracy: 0.7743\n",
      "Epoch 19/100\n",
      "141/141 [==============================] - 225s 2s/step - loss: 812310517793926391267328.0000 - accuracy: 0.7824 - val_loss: 886074507716266498719744.0000 - val_accuracy: 0.7743\n",
      "Epoch 20/100\n",
      "141/141 [==============================] - 178s 1s/step - loss: 937893213259167577407488.0000 - accuracy: 0.7824 - val_loss: 1018487326347580760129536.0000 - val_accuracy: 0.7743\n",
      "Epoch 21/100\n",
      "141/141 [==============================] - 177s 1s/step - loss: 1072909256590290061361152.0000 - accuracy: 0.7824 - val_loss: 1157656985571831524098048.0000 - val_accuracy: 0.7743\n",
      "Epoch 22/100\n",
      "141/141 [==============================] - 177s 1s/step - loss: 1210178612944572589801472.0000 - accuracy: 0.7824 - val_loss: 1299502935896244969537536.0000 - val_accuracy: 0.7743\n",
      "Epoch 23/100\n",
      "141/141 [==============================] - 176s 1s/step - loss: 1354915369826599628177408.0000 - accuracy: 0.7824 - val_loss: 1451029823979654033178624.0000 - val_accuracy: 0.7743\n",
      "Epoch 24/100\n",
      "141/141 [==============================] - 175s 1s/step - loss: 1508851431509072774430720.0000 - accuracy: 0.7824 - val_loss: 1610872302530228056489984.0000 - val_accuracy: 0.7743\n",
      "Epoch 25/100\n",
      "141/141 [==============================] - 176s 1s/step - loss: 1669424574063191387013120.0000 - accuracy: 0.7824 - val_loss: 1776869220187581504815104.0000 - val_accuracy: 0.7743\n",
      "Epoch 26/100\n",
      "141/141 [==============================] - 178s 1s/step - loss: 1826827614825205397979136.0000 - accuracy: 0.7824 - val_loss: 1922012381899982456750080.0000 - val_accuracy: 0.7743\n",
      "Epoch 27/100\n",
      "141/141 [==============================] - 181s 1s/step - loss: 1961564507037024949108736.0000 - accuracy: 0.7824 - val_loss: 2057429497799520047595520.0000 - val_accuracy: 0.7743\n",
      "Epoch 28/100\n",
      "141/141 [==============================] - 187s 1s/step - loss: 2095184506541256617230336.0000 - accuracy: 0.7824 - val_loss: 2193237742319495511277568.0000 - val_accuracy: 0.7743\n",
      "Epoch 29/100\n",
      "141/141 [==============================] - 195s 1s/step - loss: 2229365114127103364694016.0000 - accuracy: 0.7824 - val_loss: 2329689605269417747283968.0000 - val_accuracy: 0.7743\n",
      "Epoch 30/100\n",
      "141/141 [==============================] - 191s 1s/step - loss: 2364185016687254608805888.0000 - accuracy: 0.7824 - val_loss: 2466607248507201149468672.0000 - val_accuracy: 0.7743\n",
      "Epoch 31/100\n",
      "141/141 [==============================] - 196s 1s/step - loss: 2499098017658902855811072.0000 - accuracy: 0.7824 - val_loss: 2603426172841152590381056.0000 - val_accuracy: 0.7743\n",
      "Epoch 32/100\n",
      "141/141 [==============================] - 194s 1s/step - loss: 2634187271505567874547712.0000 - accuracy: 0.7824 - val_loss: 2740705112855442163236864.0000 - val_accuracy: 0.7743\n",
      "Epoch 33/100\n",
      "141/141 [==============================] - 195s 1s/step - loss: 2769681200800349896572928.0000 - accuracy: 0.7824 - val_loss: 2878544084490594512011264.0000 - val_accuracy: 0.7743\n",
      "Epoch 34/100\n",
      "141/141 [==============================] - 185s 1s/step - loss: 2905862847772629902819328.0000 - accuracy: 0.7824 - val_loss: 3016999292669959220494336.0000 - val_accuracy: 0.7743\n",
      "Epoch 35/100\n",
      "141/141 [==============================] - 183s 1s/step - loss: 3042603085213891926425600.0000 - accuracy: 0.7824 - val_loss: 3156086013603472329408512.0000 - val_accuracy: 0.7743\n",
      "Epoch 36/100\n",
      "141/141 [==============================] - 183s 1s/step - loss: 3180088398177506124890112.0000 - accuracy: 0.7824 - val_loss: 3295833070328749009928192.0000 - val_accuracy: 0.7743\n",
      "Epoch 37/100\n",
      "141/141 [==============================] - 175s 1s/step - loss: 3318341556863188483440640.0000 - accuracy: 0.7824 - val_loss: 3436261503663248337010688.0000 - val_accuracy: 0.7743\n",
      "Epoch 38/100\n",
      "141/141 [==============================] - 177s 1s/step - loss: 3456978061949152618610688.0000 - accuracy: 0.7824 - val_loss: 3577411665859631550300160.0000 - val_accuracy: 0.7743\n",
      "Epoch 39/100\n",
      "141/141 [==============================] - 177s 1s/step - loss: 3596346383960165949898752.0000 - accuracy: 0.7824 - val_loss: 3719341491223505143857152.0000 - val_accuracy: 0.7743\n",
      "Epoch 40/100\n",
      "141/141 [==============================] - 175s 1s/step - loss: 3736839669129299412123648.0000 - accuracy: 0.7824 - val_loss: 3862255046861184529596416.0000 - val_accuracy: 0.7743\n",
      "Epoch 41/100\n",
      "141/141 [==============================] - 178s 1s/step - loss: 3878687925296722071257088.0000 - accuracy: 0.7824 - val_loss: 4007872491657543123206144.0000 - val_accuracy: 0.7743\n",
      "Epoch 42/100\n",
      "141/141 [==============================] - 177s 1s/step - loss: 4024004745810754429517824.0000 - accuracy: 0.7824 - val_loss: 4156683817252038834651136.0000 - val_accuracy: 0.7743\n",
      "Epoch 43/100\n",
      "141/141 [==============================] - 182s 1s/step - loss: 4171558234043724070912000.0000 - accuracy: 0.7824 - val_loss: 4306833684713383095435264.0000 - val_accuracy: 0.7743\n",
      "Epoch 44/100\n",
      "141/141 [==============================] - 181s 1s/step - loss: 4320042994622039892951040.0000 - accuracy: 0.7824 - val_loss: 4458271941956125507715072.0000 - val_accuracy: 0.7743\n",
      "Epoch 45/100\n",
      "141/141 [==============================] - 180s 1s/step - loss: 4470131757243639990845440.0000 - accuracy: 0.7824 - val_loss: 4611074681799570123390976.0000 - val_accuracy: 0.7743\n",
      "Epoch 46/100\n"
     ]
    },
    {
     "name": "stdout",
     "output_type": "stream",
     "text": [
      "141/141 [==============================] - 182s 1s/step - loss: 4621693953548127639175168.0000 - accuracy: 0.7824 - val_loss: 4766681038511842439200768.0000 - val_accuracy: 0.7743\n",
      "Epoch 47/100\n",
      "141/141 [==============================] - 177s 1s/step - loss: 4776814642076584320696320.0000 - accuracy: 0.7824 - val_loss: 4924711700917926802489344.0000 - val_accuracy: 0.7743\n",
      "Epoch 48/100\n",
      "141/141 [==============================] - 163s 1s/step - loss: 4933357459280973547962368.0000 - accuracy: 0.7824 - val_loss: 5084425340490361010651136.0000 - val_accuracy: 0.7743\n",
      "Epoch 49/100\n",
      "141/141 [==============================] - 164s 1s/step - loss: 5091615535453841611816960.0000 - accuracy: 0.7824 - val_loss: 5245874703387980826935296.0000 - val_accuracy: 0.7743\n",
      "Epoch 50/100\n",
      "141/141 [==============================] - 169s 1s/step - loss: 5251552265337417244868608.0000 - accuracy: 0.7824 - val_loss: 5409092071412915243057152.0000 - val_accuracy: 0.7743\n",
      "Epoch 51/100\n",
      "141/141 [==============================] - 172s 1s/step - loss: 5413228753771444610007040.0000 - accuracy: 0.7824 - val_loss: 5574147772776945276682240.0000 - val_accuracy: 0.7743\n",
      "Epoch 52/100\n",
      "141/141 [==============================] - 173s 1s/step - loss: 5576755104759613661118464.0000 - accuracy: 0.7824 - val_loss: 5741076395125209133219840.0000 - val_accuracy: 0.7743\n",
      "Epoch 53/100\n",
      "141/141 [==============================] - 171s 1s/step - loss: 5742418972217323806523392.0000 - accuracy: 0.7824 - val_loss: 5909969595717323057004544.0000 - val_accuracy: 0.7743\n",
      "Epoch 54/100\n",
      "141/141 [==============================] - 172s 1s/step - loss: 5909997842294185924755456.0000 - accuracy: 0.7824 - val_loss: 6080879256020994356150272.0000 - val_accuracy: 0.7743\n",
      "Epoch 55/100\n",
      "141/141 [==============================] - 174s 1s/step - loss: 6079380458065005455081472.0000 - accuracy: 0.7824 - val_loss: 6253839963681361236066304.0000 - val_accuracy: 0.7743\n",
      "Epoch 56/100\n",
      "141/141 [==============================] - 174s 1s/step - loss: 6250856202827438716092416.0000 - accuracy: 0.7824 - val_loss: 6428903600166131004866560.0000 - val_accuracy: 0.7743\n",
      "Epoch 57/100\n",
      "141/141 [==============================] - 170s 1s/step - loss: 6424509816312074311041024.0000 - accuracy: 0.7824 - val_loss: 6606145681833855411027968.0000 - val_accuracy: 0.7743\n",
      "Epoch 58/100\n",
      "141/141 [==============================] - 163s 1s/step - loss: 6600559200683282934005760.0000 - accuracy: 0.7824 - val_loss: 6785608866780204907888640.0000 - val_accuracy: 0.7743\n",
      "Epoch 59/100\n",
      "141/141 [==============================] - 165s 1s/step - loss: 6778593915885424547463168.0000 - accuracy: 0.7824 - val_loss: 6967411329459401697263616.0000 - val_accuracy: 0.7743\n",
      "Epoch 60/100\n",
      "141/141 [==============================] - 171s 1s/step - loss: 6958954650223110474694656.0000 - accuracy: 0.7824 - val_loss: 7151655103424603485110272.0000 - val_accuracy: 0.7743\n",
      "Epoch 61/100\n",
      "141/141 [==============================] - 172s 1s/step - loss: 7142313556933526507487232.0000 - accuracy: 0.7824 - val_loss: 7339720812177576970682368.0000 - val_accuracy: 0.7743\n",
      "Epoch 62/100\n",
      "141/141 [==============================] - 173s 1s/step - loss: 7329190027154498030403584.0000 - accuracy: 0.7824 - val_loss: 7530551226698597675302912.0000 - val_accuracy: 0.7743\n",
      "Epoch 63/100\n",
      "141/141 [==============================] - 174s 1s/step - loss: 7518476679780850166923264.0000 - accuracy: 0.7824 - val_loss: 7723960726625423896608768.0000 - val_accuracy: 0.7743\n",
      "Epoch 64/100\n",
      "141/141 [==============================] - 173s 1s/step - loss: 7710298606795832759943168.0000 - accuracy: 0.7824 - val_loss: 7919984476063946143432704.0000 - val_accuracy: 0.7743\n",
      "Epoch 65/100\n",
      "141/141 [==============================] - 172s 1s/step - loss: 7904746312537557446950912.0000 - accuracy: 0.7824 - val_loss: 8118085790053769928507392.0000 - val_accuracy: 0.7743\n",
      "Epoch 66/100\n",
      "141/141 [==============================] - 175s 1s/step - loss: 8100745850624482949988352.0000 - accuracy: 0.7824 - val_loss: 8318097494976727259021312.0000 - val_accuracy: 0.7743\n",
      "Epoch 67/100\n",
      "141/141 [==============================] - 170s 1s/step - loss: 8291551477333154607398912.0000 - accuracy: 0.7824 - val_loss: 8503510907808352693125120.0000 - val_accuracy: 0.7743\n",
      "Epoch 68/100\n",
      "141/141 [==============================] - 165s 1s/step - loss: 8473809344006671101329408.0000 - accuracy: 0.7824 - val_loss: 8688961214128125546332160.0000 - val_accuracy: 0.7743\n",
      "Epoch 69/100\n",
      "141/141 [==============================] - 164s 1s/step - loss: 8657115216327875219161088.0000 - accuracy: 0.7824 - val_loss: 8875913777168401121148928.0000 - val_accuracy: 0.7743\n",
      "Epoch 70/100\n",
      "141/141 [==============================] - 170s 1s/step - loss: 8842254810302156527108096.0000 - accuracy: 0.7824 - val_loss: 9064406643338831443525632.0000 - val_accuracy: 0.7743\n",
      "Epoch 71/100\n",
      "141/141 [==============================] - 172s 1s/step - loss: 9028734099064790991241216.0000 - accuracy: 0.7824 - val_loss: 9254475553206059325718528.0000 - val_accuracy: 0.7743\n",
      "Epoch 72/100\n",
      "141/141 [==============================] - 174s 1s/step - loss: 9217241953214781202628608.0000 - accuracy: 0.7824 - val_loss: 9446156247336727579983872.0000 - val_accuracy: 0.7743\n",
      "Epoch 73/100\n",
      "141/141 [==============================] - 174s 1s/step - loss: 9406658309510401609433088.0000 - accuracy: 0.7824 - val_loss: 9639476972307699074072576.0000 - val_accuracy: 0.7743\n",
      "Epoch 74/100\n",
      "141/141 [==============================] - 172s 1s/step - loss: 9598026561913321408167936.0000 - accuracy: 0.7824 - val_loss: 9834455021941542910689280.0000 - val_accuracy: 0.7743\n",
      "Epoch 75/100\n",
      "141/141 [==============================] - 172s 1s/step - loss: 9791240065184364465487872.0000 - accuracy: 0.7824 - val_loss: 10031150348156498645876736.0000 - val_accuracy: 0.7743\n",
      "Epoch 76/100\n",
      "141/141 [==============================] - 175s 1s/step - loss: 9986061893954334074339328.0000 - accuracy: 0.7824 - val_loss: 10229562374491813976211456.0000 - val_accuracy: 0.7743\n",
      "Epoch 77/100\n",
      "141/141 [==============================] - 178s 1s/step - loss: 10182350238878163592544256.0000 - accuracy: 0.7824 - val_loss: 10429727994435636320796672.0000 - val_accuracy: 0.7743\n",
      "Epoch 78/100\n",
      "141/141 [==============================] - 170s 1s/step - loss: 10380615844182393853313024.0000 - accuracy: 0.7824 - val_loss: 10631696783612663774052352.0000 - val_accuracy: 0.7743\n",
      "Epoch 79/100\n",
      "141/141 [==============================] - 169s 1s/step - loss: 10580628125566103487250432.0000 - accuracy: 0.7824 - val_loss: 10835467589101391729131520.0000 - val_accuracy: 0.7743\n",
      "Epoch 80/100\n",
      "141/141 [==============================] - 167s 1s/step - loss: 10782626890702250718527488.0000 - accuracy: 0.7824 - val_loss: 11041077304389967605137408.0000 - val_accuracy: 0.7743\n",
      "Epoch 81/100\n",
      "141/141 [==============================] - 170s 1s/step - loss: 10985920386688071438958592.0000 - accuracy: 0.7824 - val_loss: 11248593951847163206041600.0000 - val_accuracy: 0.7743\n",
      "Epoch 82/100\n",
      "141/141 [==============================] - 218s 2s/step - loss: 11191493208488499895861248.0000 - accuracy: 0.7824 - val_loss: 11458027907766519993466880.0000 - val_accuracy: 0.7743\n",
      "Epoch 83/100\n",
      "141/141 [==============================] - 231s 2s/step - loss: 11398934916047896051712000.0000 - accuracy: 0.7824 - val_loss: 11669394160127597856423936.0000 - val_accuracy: 0.7743\n",
      "Epoch 84/100\n",
      "141/141 [==============================] - 231s 2s/step - loss: 11608393083318849582923776.0000 - accuracy: 0.7824 - val_loss: 11882743437476599496179712.0000 - val_accuracy: 0.7743\n",
      "Epoch 85/100\n",
      "141/141 [==============================] - 231s 2s/step - loss: 11819633667235925299560448.0000 - accuracy: 0.7824 - val_loss: 12098099951165121656520704.0000 - val_accuracy: 0.7743\n",
      "Epoch 86/100\n",
      "141/141 [==============================] - 232s 2s/step - loss: 12032738525225950287757312.0000 - accuracy: 0.7824 - val_loss: 12315546711541496030429184.0000 - val_accuracy: 0.7743\n",
      "Epoch 87/100\n",
      "141/141 [==============================] - 235s 2s/step - loss: 12248226471965997628653568.0000 - accuracy: 0.7824 - val_loss: 12535077953998199583670272.0000 - val_accuracy: 0.7743\n",
      "Epoch 88/100\n"
     ]
    },
    {
     "name": "stdout",
     "output_type": "stream",
     "text": [
      "141/141 [==============================] - 230s 2s/step - loss: 12465631727168206156070912.0000 - accuracy: 0.7824 - val_loss: 12756719042808333666877440.0000 - val_accuracy: 0.7743\n",
      "Epoch 89/100\n",
      "141/141 [==============================] - 235s 2s/step - loss: 12685309390655994778877952.0000 - accuracy: 0.7824 - val_loss: 12980555294163239186726912.0000 - val_accuracy: 0.7743\n",
      "Epoch 90/100\n",
      "141/141 [==============================] - 230s 2s/step - loss: 12903153908951458514993152.0000 - accuracy: 0.7824 - val_loss: 13186631942661180835758080.0000 - val_accuracy: 0.7743\n",
      "Epoch 91/100\n",
      "141/141 [==============================] - 228s 2s/step - loss: 13086191727022841540902912.0000 - accuracy: 0.7824 - val_loss: 13363273352225005074644992.0000 - val_accuracy: 0.7743\n",
      "Epoch 92/100\n",
      "141/141 [==============================] - 233s 2s/step - loss: 13260330144000164315004928.0000 - accuracy: 0.7824 - val_loss: 13539897467966260210827264.0000 - val_accuracy: 0.7743\n",
      "Epoch 93/100\n",
      "141/141 [==============================] - 252s 2s/step - loss: 13434267952635685497733120.0000 - accuracy: 0.7824 - val_loss: 13716482384376358714212352.0000 - val_accuracy: 0.7743\n",
      "Epoch 94/100\n",
      "141/141 [==============================] - 266s 2s/step - loss: 13608541261429047272931328.0000 - accuracy: 0.7824 - val_loss: 13893037324827337439576064.0000 - val_accuracy: 0.7743\n",
      "Epoch 95/100\n",
      "141/141 [==============================] - 249s 2s/step - loss: 13782610503116093636214784.0000 - accuracy: 0.7824 - val_loss: 14069556524711673352683520.0000 - val_accuracy: 0.7743\n",
      "Epoch 96/100\n",
      "141/141 [==============================] - 239s 2s/step - loss: 13956469913089301553348608.0000 - accuracy: 0.7824 - val_loss: 14246078030439018479484928.0000 - val_accuracy: 0.7743\n",
      "Epoch 97/100\n",
      "141/141 [==============================] - 211s 1s/step - loss: 14130340852277555538952192.0000 - accuracy: 0.7824 - val_loss: 14422583395265299110428672.0000 - val_accuracy: 0.7743\n",
      "Epoch 98/100\n",
      "141/141 [==============================] - 235s 2s/step - loss: 14304442375766730893950976.0000 - accuracy: 0.7824 - val_loss: 14599051866603432322269184.0000 - val_accuracy: 0.7743\n",
      "Epoch 99/100\n",
      "141/141 [==============================] - 232s 2s/step - loss: 14478437830477482419027968.0000 - accuracy: 0.7824 - val_loss: 14775521490863070140956672.0000 - val_accuracy: 0.7743\n",
      "Epoch 100/100\n",
      "141/141 [==============================] - 225s 2s/step - loss: 14651711556326350057897984.0000 - accuracy: 0.7824 - val_loss: 14950586856730096820027392.0000 - val_accuracy: 0.7743\n"
     ]
    }
   ],
   "source": [
    "epochs = 100\n",
    "batch_size = 16\n",
    "\n",
    "history = autoencoder.fit(X_train, X_train, batch_size=batch_size, epochs=epochs, verbose=1, validation_data=(X_test, X_test))"
   ]
  },
  {
   "cell_type": "code",
   "execution_count": 54,
   "id": "d546d3b3",
   "metadata": {},
   "outputs": [
    {
     "name": "stdout",
     "output_type": "stream",
     "text": [
      "[[[[0. 0. 0.]\n",
      "   [0. 0. 0.]\n",
      "   [0. 0. 0.]\n",
      "   ...\n",
      "   [0. 0. 0.]\n",
      "   [0. 0. 0.]\n",
      "   [0. 0. 0.]]\n",
      "\n",
      "  [[0. 0. 0.]\n",
      "   [0. 0. 0.]\n",
      "   [0. 0. 0.]\n",
      "   ...\n",
      "   [0. 0. 0.]\n",
      "   [0. 0. 0.]\n",
      "   [0. 0. 0.]]\n",
      "\n",
      "  [[0. 0. 0.]\n",
      "   [0. 0. 0.]\n",
      "   [0. 0. 0.]\n",
      "   ...\n",
      "   [0. 0. 0.]\n",
      "   [0. 0. 0.]\n",
      "   [0. 0. 0.]]\n",
      "\n",
      "  ...\n",
      "\n",
      "  [[0. 0. 0.]\n",
      "   [0. 0. 0.]\n",
      "   [0. 0. 0.]\n",
      "   ...\n",
      "   [0. 0. 0.]\n",
      "   [0. 0. 0.]\n",
      "   [0. 0. 0.]]\n",
      "\n",
      "  [[0. 0. 0.]\n",
      "   [0. 0. 0.]\n",
      "   [0. 0. 0.]\n",
      "   ...\n",
      "   [0. 0. 0.]\n",
      "   [0. 0. 0.]\n",
      "   [0. 0. 0.]]\n",
      "\n",
      "  [[0. 0. 0.]\n",
      "   [0. 0. 0.]\n",
      "   [0. 0. 0.]\n",
      "   ...\n",
      "   [0. 0. 0.]\n",
      "   [0. 0. 0.]\n",
      "   [0. 0. 0.]]]\n",
      "\n",
      "\n",
      " [[[0. 0. 0.]\n",
      "   [0. 0. 0.]\n",
      "   [0. 0. 0.]\n",
      "   ...\n",
      "   [0. 0. 0.]\n",
      "   [0. 0. 0.]\n",
      "   [0. 0. 0.]]\n",
      "\n",
      "  [[0. 0. 0.]\n",
      "   [0. 0. 0.]\n",
      "   [0. 0. 0.]\n",
      "   ...\n",
      "   [0. 0. 0.]\n",
      "   [0. 0. 0.]\n",
      "   [0. 0. 0.]]\n",
      "\n",
      "  [[0. 0. 0.]\n",
      "   [0. 0. 0.]\n",
      "   [0. 0. 0.]\n",
      "   ...\n",
      "   [0. 0. 0.]\n",
      "   [0. 0. 0.]\n",
      "   [0. 0. 0.]]\n",
      "\n",
      "  ...\n",
      "\n",
      "  [[0. 0. 0.]\n",
      "   [0. 0. 0.]\n",
      "   [0. 0. 0.]\n",
      "   ...\n",
      "   [0. 0. 0.]\n",
      "   [0. 0. 0.]\n",
      "   [0. 0. 0.]]\n",
      "\n",
      "  [[0. 0. 0.]\n",
      "   [0. 0. 0.]\n",
      "   [0. 0. 0.]\n",
      "   ...\n",
      "   [0. 0. 0.]\n",
      "   [0. 0. 0.]\n",
      "   [0. 0. 0.]]\n",
      "\n",
      "  [[0. 0. 0.]\n",
      "   [0. 0. 0.]\n",
      "   [0. 0. 0.]\n",
      "   ...\n",
      "   [0. 0. 0.]\n",
      "   [0. 0. 0.]\n",
      "   [0. 0. 0.]]]\n",
      "\n",
      "\n",
      " [[[0. 0. 0.]\n",
      "   [0. 0. 0.]\n",
      "   [0. 0. 0.]\n",
      "   ...\n",
      "   [0. 0. 0.]\n",
      "   [0. 0. 0.]\n",
      "   [0. 0. 0.]]\n",
      "\n",
      "  [[0. 0. 0.]\n",
      "   [0. 0. 0.]\n",
      "   [0. 0. 0.]\n",
      "   ...\n",
      "   [0. 0. 0.]\n",
      "   [0. 0. 0.]\n",
      "   [0. 0. 0.]]\n",
      "\n",
      "  [[0. 0. 0.]\n",
      "   [0. 0. 0.]\n",
      "   [0. 0. 0.]\n",
      "   ...\n",
      "   [0. 0. 0.]\n",
      "   [0. 0. 0.]\n",
      "   [0. 0. 0.]]\n",
      "\n",
      "  ...\n",
      "\n",
      "  [[0. 0. 0.]\n",
      "   [0. 0. 0.]\n",
      "   [0. 0. 0.]\n",
      "   ...\n",
      "   [0. 0. 0.]\n",
      "   [0. 0. 0.]\n",
      "   [0. 0. 0.]]\n",
      "\n",
      "  [[0. 0. 0.]\n",
      "   [0. 0. 0.]\n",
      "   [0. 0. 0.]\n",
      "   ...\n",
      "   [0. 0. 0.]\n",
      "   [0. 0. 0.]\n",
      "   [0. 0. 0.]]\n",
      "\n",
      "  [[0. 0. 0.]\n",
      "   [0. 0. 0.]\n",
      "   [0. 0. 0.]\n",
      "   ...\n",
      "   [0. 0. 0.]\n",
      "   [0. 0. 0.]\n",
      "   [0. 0. 0.]]]\n",
      "\n",
      "\n",
      " ...\n",
      "\n",
      "\n",
      " [[[0. 0. 0.]\n",
      "   [0. 0. 0.]\n",
      "   [0. 0. 0.]\n",
      "   ...\n",
      "   [0. 0. 0.]\n",
      "   [0. 0. 0.]\n",
      "   [0. 0. 0.]]\n",
      "\n",
      "  [[0. 0. 0.]\n",
      "   [0. 0. 0.]\n",
      "   [0. 0. 0.]\n",
      "   ...\n",
      "   [0. 0. 0.]\n",
      "   [0. 0. 0.]\n",
      "   [0. 0. 0.]]\n",
      "\n",
      "  [[0. 0. 0.]\n",
      "   [0. 0. 0.]\n",
      "   [0. 0. 0.]\n",
      "   ...\n",
      "   [0. 0. 0.]\n",
      "   [0. 0. 0.]\n",
      "   [0. 0. 0.]]\n",
      "\n",
      "  ...\n",
      "\n",
      "  [[0. 0. 0.]\n",
      "   [0. 0. 0.]\n",
      "   [0. 0. 0.]\n",
      "   ...\n",
      "   [0. 0. 0.]\n",
      "   [0. 0. 0.]\n",
      "   [0. 0. 0.]]\n",
      "\n",
      "  [[0. 0. 0.]\n",
      "   [0. 0. 0.]\n",
      "   [0. 0. 0.]\n",
      "   ...\n",
      "   [0. 0. 0.]\n",
      "   [0. 0. 0.]\n",
      "   [0. 0. 0.]]\n",
      "\n",
      "  [[0. 0. 0.]\n",
      "   [0. 0. 0.]\n",
      "   [0. 0. 0.]\n",
      "   ...\n",
      "   [0. 0. 0.]\n",
      "   [0. 0. 0.]\n",
      "   [0. 0. 0.]]]\n",
      "\n",
      "\n",
      " [[[0. 0. 0.]\n",
      "   [0. 0. 0.]\n",
      "   [0. 0. 0.]\n",
      "   ...\n",
      "   [0. 0. 0.]\n",
      "   [0. 0. 0.]\n",
      "   [0. 0. 0.]]\n",
      "\n",
      "  [[0. 0. 0.]\n",
      "   [0. 0. 0.]\n",
      "   [0. 0. 0.]\n",
      "   ...\n",
      "   [0. 0. 0.]\n",
      "   [0. 0. 0.]\n",
      "   [0. 0. 0.]]\n",
      "\n",
      "  [[0. 0. 0.]\n",
      "   [0. 0. 0.]\n",
      "   [0. 0. 0.]\n",
      "   ...\n",
      "   [0. 0. 0.]\n",
      "   [0. 0. 0.]\n",
      "   [0. 0. 0.]]\n",
      "\n",
      "  ...\n",
      "\n",
      "  [[0. 0. 0.]\n",
      "   [0. 0. 0.]\n",
      "   [0. 0. 0.]\n",
      "   ...\n",
      "   [0. 0. 0.]\n",
      "   [0. 0. 0.]\n",
      "   [0. 0. 0.]]\n",
      "\n",
      "  [[0. 0. 0.]\n",
      "   [0. 0. 0.]\n",
      "   [0. 0. 0.]\n",
      "   ...\n",
      "   [0. 0. 0.]\n",
      "   [0. 0. 0.]\n",
      "   [0. 0. 0.]]\n",
      "\n",
      "  [[0. 0. 0.]\n",
      "   [0. 0. 0.]\n",
      "   [0. 0. 0.]\n",
      "   ...\n",
      "   [0. 0. 0.]\n",
      "   [0. 0. 0.]\n",
      "   [0. 0. 0.]]]\n",
      "\n",
      "\n",
      " [[[0. 0. 0.]\n",
      "   [0. 0. 0.]\n",
      "   [0. 0. 0.]\n",
      "   ...\n",
      "   [0. 0. 0.]\n",
      "   [0. 0. 0.]\n",
      "   [0. 0. 0.]]\n",
      "\n",
      "  [[0. 0. 0.]\n",
      "   [0. 0. 0.]\n",
      "   [0. 0. 0.]\n",
      "   ...\n",
      "   [0. 0. 0.]\n",
      "   [0. 0. 0.]\n",
      "   [0. 0. 0.]]\n",
      "\n",
      "  [[0. 0. 0.]\n",
      "   [0. 0. 0.]\n",
      "   [0. 0. 0.]\n",
      "   ...\n",
      "   [0. 0. 0.]\n",
      "   [0. 0. 0.]\n",
      "   [0. 0. 0.]]\n",
      "\n",
      "  ...\n",
      "\n",
      "  [[0. 0. 0.]\n",
      "   [0. 0. 0.]\n",
      "   [0. 0. 0.]\n",
      "   ...\n",
      "   [0. 0. 0.]\n",
      "   [0. 0. 0.]\n",
      "   [0. 0. 0.]]\n",
      "\n",
      "  [[0. 0. 0.]\n",
      "   [0. 0. 0.]\n",
      "   [0. 0. 0.]\n",
      "   ...\n",
      "   [0. 0. 0.]\n",
      "   [0. 0. 0.]\n",
      "   [0. 0. 0.]]\n",
      "\n",
      "  [[0. 0. 0.]\n",
      "   [0. 0. 0.]\n",
      "   [0. 0. 0.]\n",
      "   ...\n",
      "   [0. 0. 0.]\n",
      "   [0. 0. 0.]\n",
      "   [0. 0. 0.]]]]\n"
     ]
    }
   ],
   "source": [
    "decoded_imgs = autoencoder.predict(X_test)\n",
    "print(decoded_imgs)"
   ]
  },
  {
   "cell_type": "code",
   "execution_count": 55,
   "id": "c252cfd7",
   "metadata": {},
   "outputs": [
    {
     "data": {
      "image/png": "[encoded data removed]",
      "text/plain": [
       "<Figure size 1440x432 with 10 Axes>"
      ]
     },
     "metadata": {
      "needs_background": "light"
     },
     "output_type": "display_data"
    }
   ],
   "source": [
    "import matplotlib.pyplot as plt\n",
    "from PIL import Image\n",
    "n = 10\n",
    "plt.figure(figsize=(20, 6))\n",
    "for i in range(n):\n",
    "    # display original\n",
    "    ax = plt.subplot(3, n, i+1)\n",
    "    img = Image.fromarray(X_test[i].reshape(256,256,3),'RGB')\n",
    "    img.show()\n",
    "    #plt.imshow(X_test[i].reshape(28, 28,3))\n",
    "    #plt.gray()\n",
    "    #ax.get_xaxis().set_visible(False)\n",
    "    #ax.get_yaxis().set_visible(False)\n",
    "\n",
    "    \n",
    "    # display reconstruction\n",
    "    #ax = plt.subplot(3, n, i+n+1)\n",
    "    #plt.imshow(decoded_imgs[i].reshape(28, 28,3))\n",
    "    img2 = Image.fromarray(decoded_imgs[i].reshape(256,256,3),'RGB')\n",
    "    img2.show()\n",
    "    #plt.gray()\n",
    "    #ax.get_xaxis().set_visible(False)\n",
    "    #ax.get_yaxis().set_visible(False)\n",
    "    \n",
    "plt.show()"
   ]
  },
  {
   "cell_type": "code",
   "execution_count": null,
   "id": "a7dbaaca",
   "metadata": {},
   "outputs": [],
   "source": []
  },
  {
   "cell_type": "code",
   "execution_count": null,
   "id": "d4e5c47e",
   "metadata": {},
   "outputs": [],
   "source": []
  },
  {
   "cell_type": "code",
   "execution_count": null,
   "id": "04e50fe8",
   "metadata": {},
   "outputs": [],
   "source": []
  },
  {
   "cell_type": "code",
   "execution_count": null,
   "id": "3a67cedd",
   "metadata": {},
   "outputs": [],
   "source": []
  }
 ],
 "metadata": {
  "kernelspec": {
   "display_name": "Python 3",
   "language": "python",
   "name": "python3"
  },
  "language_info": {
   "codemirror_mode": {
    "name": "ipython",
    "version": 3
   },
   "file_extension": ".py",
   "mimetype": "text/x-python",
   "name": "python",
   "nbconvert_exporter": "python",
   "pygments_lexer": "ipython3",
   "version": "3.8.5"
  }
 },
 "nbformat": 4,
 "nbformat_minor": 5
}
